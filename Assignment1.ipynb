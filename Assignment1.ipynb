{
 "cells": [
  {
   "cell_type": "markdown",
   "metadata": {},
   "source": [
    "### Part 1: Photo Booth Application\n",
    "#### This section captures webcam images and saves them to the `images/` folder."
   ]
  },
  {
   "cell_type": "code",
   "execution_count": 8,
   "metadata": {},
   "outputs": [],
   "source": [
    "import cv2\n",
    "import numpy as np\n",
    "\n",
    "# Function to capture webcam images\n",
    "def capture_webcam():\n",
    "    cap = cv2.VideoCapture(0)  # Open webcam\n",
    "    count = 1  # Image file counter\n",
    "    \n",
    "    while True:\n",
    "        ret, frame = cap.read()\n",
    "        if not ret:\n",
    "            break\n",
    "        \n",
    "        cv2.imshow(\"Webcam\", frame)\n",
    "        key = cv2.waitKey(1) & 0xFF\n",
    "        \n",
    "        if key == ord('s'):  # Press 's' to save the image\n",
    "            filename = f\"images/image{count}.jpg\"\n",
    "            cv2.imwrite(filename, frame)\n",
    "            print(f\"Saved {filename}\")\n",
    "            count += 1\n",
    "        elif key == ord('q'):  # Press 'q' to quit\n",
    "            break\n",
    "    \n",
    "    cap.release()\n",
    "    cv2.destroyAllWindows()\n",
    "\n",
    "# Run the webcam capture function\n",
    "capture_webcam()"
   ]
  },
  {
   "cell_type": "markdown",
   "metadata": {},
   "source": [
    "### Part 2: Image Arithmetic\n",
    "#### This section performs brightness, contrast adjustments, and linear blending between images."
   ]
  },
  {
   "cell_type": "code",
   "execution_count": null,
   "metadata": {},
   "outputs": [],
   "source": [
    "\n"
   ]
  },
  {
   "cell_type": "markdown",
   "metadata": {},
   "source": [
    "### Part 3: A Drawing Application\n",
    "#### This section enables drawing shapes and adding text to images."
   ]
  },
  {
   "cell_type": "markdown",
   "metadata": {},
   "source": [
    "#### 1.1 Create a program to draw green rectangles on a image with thickness is 4"
   ]
  },
  {
   "cell_type": "code",
   "execution_count": 49,
   "metadata": {},
   "outputs": [],
   "source": [
    "image = np.zeros((500, 500, 3), dtype=np.uint8)\n",
    "\n",
    "color = (0, 255, 0)\n",
    "thickness = 4\n",
    "\n",
    "# Draw multiple small green rectangles\n",
    "cv2.rectangle(image, (100, 100), (150, 150), color, thickness)  \n",
    "cv2.rectangle(image, (200, 100), (250, 150), color, thickness) \n",
    "cv2.rectangle(image, (300, 100), (350, 150), color, thickness)\n",
    "cv2.rectangle(image, (100, 200), (150, 250), color, thickness)  \n",
    "cv2.rectangle(image, (200, 200), (250, 250), color, thickness) \n",
    "cv2.rectangle(image, (300, 200), (350, 250), color, thickness) \n",
    "cv2.rectangle(image, (100, 300), (150, 350), color, thickness) \n",
    "cv2.rectangle(image, (200, 300), (250, 350), color, thickness)  \n",
    "cv2.rectangle(image, (300, 300), (350, 350), color, thickness) \n",
    "\n",
    "cv2.imshow(\"image\", image)\n",
    "cv2.waitKey(0)\n",
    "cv2.destroyAllWindows()"
   ]
  },
  {
   "cell_type": "markdown",
   "metadata": {},
   "source": [
    "#### 1.2 Change thickness to -1"
   ]
  },
  {
   "cell_type": "code",
   "execution_count": 50,
   "metadata": {},
   "outputs": [],
   "source": [
    "thickness = -1\n",
    "\n",
    "# Draw multiple small green rectangles\n",
    "cv2.rectangle(image, (100, 100), (150, 150), color, thickness)  \n",
    "cv2.rectangle(image, (200, 100), (250, 150), color, thickness) \n",
    "cv2.rectangle(image, (300, 100), (350, 150), color, thickness)\n",
    "cv2.rectangle(image, (100, 200), (150, 250), color, thickness)  \n",
    "cv2.rectangle(image, (200, 200), (250, 250), color, thickness) \n",
    "cv2.rectangle(image, (300, 200), (350, 250), color, thickness) \n",
    "cv2.rectangle(image, (100, 300), (150, 350), color, thickness) \n",
    "cv2.rectangle(image, (200, 300), (250, 350), color, thickness)  \n",
    "cv2.rectangle(image, (300, 300), (350, 350), color, thickness) \n",
    "\n",
    "cv2.imshow(\"image\", image)\n",
    "cv2.waitKey(0)\n",
    "cv2.destroyAllWindows()"
   ]
  },
  {
   "cell_type": "markdown",
   "metadata": {},
   "source": [
    "#### 1.3 Create a program to put Text On the Rectangle in the Image"
   ]
  },
  {
   "cell_type": "code",
   "execution_count": 58,
   "metadata": {},
   "outputs": [],
   "source": [
    "image = np.zeros((500, 500, 3), dtype=np.uint8)\n",
    "\n",
    "thickness = -1\n",
    "\n",
    "cv2.rectangle(image, (100, 100), (400, 400), color, thickness)\n",
    "font = cv2.FONT_HERSHEY_DUPLEX\n",
    "text = \"CVI Assignment\"\n",
    "text_position = (100, 250) \n",
    "font_scale = 1.2\n",
    "font_color = (200, 255, 255) \n",
    "thickness = 2\n",
    "cv2.putText(image, text, text_position, font, font_scale, font_color, thickness)\n",
    "\n",
    "cv2.imshow(\"image\", image)\n",
    "cv2.waitKey(0)\n",
    "cv2.destroyAllWindows()"
   ]
  }
 ],
 "metadata": {
  "kernelspec": {
   "display_name": "computer_vision_venv",
   "language": "python",
   "name": "python3"
  },
  "language_info": {
   "codemirror_mode": {
    "name": "ipython",
    "version": 3
   },
   "file_extension": ".py",
   "mimetype": "text/x-python",
   "name": "python",
   "nbconvert_exporter": "python",
   "pygments_lexer": "ipython3",
   "version": "3.13.1"
  }
 },
 "nbformat": 4,
 "nbformat_minor": 2
}
