{
 "cells": [
  {
   "cell_type": "markdown",
   "metadata": {},
   "source": [
    "### Part 1: Photo Booth Application\n",
    "#### This section captures webcam images and saves them to the `images/` folder.\n"
   ]
  },
  {
   "cell_type": "code",
   "execution_count": 7,
   "metadata": {},
   "outputs": [
    {
     "name": "stderr",
     "output_type": "stream",
     "text": [
      "2025-02-09 14:23:36.790 Python[54959:15733341] WARNING: AVCaptureDeviceTypeExternal is deprecated for Continuity Cameras. Please use AVCaptureDeviceTypeContinuityCamera and add NSCameraUseContinuityCameraDeviceType to your Info.plist.\n",
      "2025-02-09 14:23:38.966 Python[54959:15733341] +[IMKClient subclass]: chose IMKClient_Modern\n",
      "2025-02-09 14:23:38.966 Python[54959:15733341] +[IMKInputSession subclass]: chose IMKInputSession_Modern\n"
     ]
    },
    {
     "name": "stdout",
     "output_type": "stream",
     "text": [
      "Saved images/image1.jpg\n"
     ]
    }
   ],
   "source": [
    "import cv2\n",
    "\n",
    "# Function to capture webcam images\n",
    "def capture_webcam():\n",
    "    cap = cv2.VideoCapture(0)  # Open webcam\n",
    "    count = 1  # Image file counter\n",
    "    \n",
    "    while True:\n",
    "        ret, frame = cap.read()\n",
    "        if not ret:\n",
    "            break\n",
    "        \n",
    "        cv2.imshow(\"Webcam\", frame)\n",
    "        key = cv2.waitKey(1) & 0xFF\n",
    "        \n",
    "        if key == ord('s'):  # Press 's' to save the image\n",
    "            filename = f\"images/image{count}.jpg\"\n",
    "            cv2.imwrite(filename, frame)\n",
    "            print(f\"Saved {filename}\")\n",
    "            count += 1\n",
    "        elif key == ord('q'):  # Press 'q' to quit\n",
    "            break\n",
    "    \n",
    "    cap.release()\n",
    "    cv2.destroyAllWindows()\n",
    "\n",
    "# Run the webcam capture function\n",
    "capture_webcam()"
   ]
  },
  {
   "cell_type": "markdown",
   "metadata": {},
   "source": [
    "### Part 2: Image Arithmetic\n",
    "#### This section performs brightness and contrast adjustments, as well as linear blending of two images."
   ]
  },
  {
   "cell_type": "code",
   "execution_count": 2,
   "metadata": {},
   "outputs": [
    {
     "name": "stderr",
     "output_type": "stream",
     "text": [
      "2025-02-10 09:52:35.773 Python[59465:15791444] +[IMKClient subclass]: chose IMKClient_Modern\n",
      "2025-02-10 09:52:35.773 Python[59465:15791444] +[IMKInputSession subclass]: chose IMKInputSession_Modern\n"
     ]
    }
   ],
   "source": [
    "import cv2\n",
    "import numpy as np\n",
    "\n",
    "# Show the image in a window\n",
    "def show_image(image, title=\"Image\"):\n",
    "    cv2.imshow(title, image)\n",
    "    cv2.waitKey(0) \n",
    "    cv2.destroyAllWindows()\n",
    "\n",
    "# Open an image file and display it\n",
    "def open_image(image_path):\n",
    "    img = cv2.imread(image_path)\n",
    "    if img is None:\n",
    "        print(\"Error: Cannot open image!\")\n",
    "        return None\n",
    "    show_image(img, \"Original Image\")\n",
    "    return img\n",
    "\n",
    "# Make image brighter\n",
    "def make_brighter(image, value=150):\n",
    "    bright_img = cv2.add(image, np.full(image.shape, value, dtype=np.uint8))\n",
    "    show_image(bright_img, \"Brighter Image\")\n",
    "    return bright_img\n",
    "\n",
    "# Change contrast\n",
    "def change_contrast(image, factor=0.5):\n",
    "    contrast_img = cv2.multiply(image, np.array([factor], dtype=np.float32))\n",
    "    show_image(contrast_img, \"Contrast Adjusted Image\")\n",
    "    return contrast_img\n",
    "\n",
    "# Mix two images together\n",
    "def blend_images(image1_path, image2_path, alpha):\n",
    "    img1 = cv2.imread(image1_path)\n",
    "    img2 = cv2.imread(image2_path)\n",
    "    \n",
    "    if img1 is None or img2 is None:\n",
    "        print(\"Error: One or both images not found!\")\n",
    "        return None\n",
    "    \n",
    "    img2 = cv2.resize(img2, (img1.shape[1], img1.shape[0]))  # Resize second image\n",
    "    \n",
    "    blended = cv2.addWeighted(img1, 1 - alpha, img2, alpha, 0)  # Blend images\n",
    "    show_image(blended, \"Blended Image\")\n",
    "    return blended\n",
    "\n",
    "\n",
    "# test\n",
    "img = open_image(\"images/image1.jpg\")\n",
    "bright_img = make_brighter(img, 150)\n",
    "contrast_img = change_contrast(img, 0.5)\n",
    "blended_img = blend_images(\"images/image1.jpg\", \"images/image2.jpg\", alpha=0.5)"
   ]
  }
 ],
 "metadata": {
  "kernelspec": {
   "display_name": "computer_vision_venv",
   "language": "python",
   "name": "python3"
  },
  "language_info": {
   "codemirror_mode": {
    "name": "ipython",
    "version": 3
   },
   "file_extension": ".py",
   "mimetype": "text/x-python",
   "name": "python",
   "nbconvert_exporter": "python",
   "pygments_lexer": "ipython3",
   "version": "3.12.3"
  }
 },
 "nbformat": 4,
 "nbformat_minor": 2
}
