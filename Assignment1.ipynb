{
 "cells": [
  {
   "cell_type": "markdown",
   "metadata": {},
   "source": [
    "### Part 1: Photo Booth Application\n",
    "#### This section captures webcam images and saves them to the `images/` folder.\n"
   ]
  },
  {
   "cell_type": "code",
   "execution_count": null,
   "metadata": {},
   "outputs": [],
   "source": [
    "import cv2\n",
    "\n",
    "# Function to capture webcam images\n",
    "def capture_webcam():\n",
    "    cap = cv2.VideoCapture(0)  # Open webcam\n",
    "    count = 1  # Image file counter\n",
    "    \n",
    "    while True:\n",
    "        ret, frame = cap.read()\n",
    "        if not ret:\n",
    "            break\n",
    "        \n",
    "        cv2.imshow(\"Webcam\", frame)\n",
    "        key = cv2.waitKey(1) & 0xFF\n",
    "        \n",
    "        if key == ord('s'):  # Press 's' to save the image\n",
    "            filename = f\"images/image{count}.jpg\"\n",
    "            cv2.imwrite(filename, frame)\n",
    "            print(f\"Saved {filename}\")\n",
    "            count += 1\n",
    "        elif key == ord('q'):  # Press 'q' to quit\n",
    "            break\n",
    "    \n",
    "    cap.release()\n",
    "    cv2.destroyAllWindows()\n",
    "\n",
    "# Run the webcam capture function\n",
    "capture_webcam()"
   ]
  }
 ],
 "metadata": {
  "kernelspec": {
   "display_name": "computer_vision_venv",
   "language": "python",
   "name": "python3"
  },
  "language_info": {
   "codemirror_mode": {
    "name": "ipython",
    "version": 3
   },
   "file_extension": ".py",
   "mimetype": "text/x-python",
   "name": "python",
   "nbconvert_exporter": "python",
   "pygments_lexer": "ipython3",
   "version": "3.12.3"
  }
 },
 "nbformat": 4,
 "nbformat_minor": 2
}
